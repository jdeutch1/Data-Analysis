{
 "cells": [
  {
   "cell_type": "code",
   "execution_count": 116,
   "metadata": {},
   "outputs": [],
   "source": [
    "import pandas as pd\n",
    "import matplotlib.pyplot as plt\n",
    "import seaborn as sns"
   ]
  },
  {
   "cell_type": "code",
   "execution_count": 117,
   "metadata": {},
   "outputs": [],
   "source": [
    "df = pd.read_csv(\"data/Train.csv\")"
   ]
  },
  {
   "cell_type": "markdown",
   "metadata": {},
   "source": [
    "# Understanding Data"
   ]
  },
  {
   "cell_type": "code",
   "execution_count": 118,
   "metadata": {},
   "outputs": [
    {
     "data": {
      "text/plain": [
       "(209499, 43)"
      ]
     },
     "execution_count": 118,
     "metadata": {},
     "output_type": "execute_result"
    }
   ],
   "source": [
    "df.shape"
   ]
  },
  {
   "cell_type": "code",
   "execution_count": 119,
   "metadata": {},
   "outputs": [
    {
     "data": {
      "text/plain": [
       "0"
      ]
     },
     "execution_count": 119,
     "metadata": {},
     "output_type": "execute_result"
    }
   ],
   "source": [
    "df.duplicated().sum()"
   ]
  },
  {
   "cell_type": "markdown",
   "metadata": {},
   "source": [
    "There are no duplicates in the data set"
   ]
  },
  {
   "cell_type": "code",
   "execution_count": 120,
   "metadata": {},
   "outputs": [
    {
     "data": {
      "text/html": [
       "<div>\n",
       "<style scoped>\n",
       "    .dataframe tbody tr th:only-of-type {\n",
       "        vertical-align: middle;\n",
       "    }\n",
       "\n",
       "    .dataframe tbody tr th {\n",
       "        vertical-align: top;\n",
       "    }\n",
       "\n",
       "    .dataframe thead th {\n",
       "        text-align: right;\n",
       "    }\n",
       "</style>\n",
       "<table border=\"1\" class=\"dataframe\">\n",
       "  <thead>\n",
       "    <tr style=\"text-align: right;\">\n",
       "      <th></th>\n",
       "      <th>ID</th>\n",
       "      <th>age</th>\n",
       "      <th>gender</th>\n",
       "      <th>education</th>\n",
       "      <th>class</th>\n",
       "      <th>education_institute</th>\n",
       "      <th>marital_status</th>\n",
       "      <th>race</th>\n",
       "      <th>is_hispanic</th>\n",
       "      <th>employment_commitment</th>\n",
       "      <th>...</th>\n",
       "      <th>country_of_birth_mother</th>\n",
       "      <th>migration_code_change_in_msa</th>\n",
       "      <th>migration_prev_sunbelt</th>\n",
       "      <th>migration_code_move_within_reg</th>\n",
       "      <th>migration_code_change_in_reg</th>\n",
       "      <th>residence_1_year_ago</th>\n",
       "      <th>old_residence_reg</th>\n",
       "      <th>old_residence_state</th>\n",
       "      <th>importance_of_record</th>\n",
       "      <th>income_above_limit</th>\n",
       "    </tr>\n",
       "  </thead>\n",
       "  <tbody>\n",
       "    <tr>\n",
       "      <th>0</th>\n",
       "      <td>ID_TZ0000</td>\n",
       "      <td>79</td>\n",
       "      <td>Female</td>\n",
       "      <td>High school graduate</td>\n",
       "      <td>NaN</td>\n",
       "      <td>NaN</td>\n",
       "      <td>Widowed</td>\n",
       "      <td>White</td>\n",
       "      <td>All other</td>\n",
       "      <td>Not in labor force</td>\n",
       "      <td>...</td>\n",
       "      <td>US</td>\n",
       "      <td>?</td>\n",
       "      <td>?</td>\n",
       "      <td>?</td>\n",
       "      <td>?</td>\n",
       "      <td>NaN</td>\n",
       "      <td>NaN</td>\n",
       "      <td>NaN</td>\n",
       "      <td>1779.74</td>\n",
       "      <td>Below limit</td>\n",
       "    </tr>\n",
       "    <tr>\n",
       "      <th>1</th>\n",
       "      <td>ID_TZ0001</td>\n",
       "      <td>65</td>\n",
       "      <td>Female</td>\n",
       "      <td>High school graduate</td>\n",
       "      <td>NaN</td>\n",
       "      <td>NaN</td>\n",
       "      <td>Widowed</td>\n",
       "      <td>White</td>\n",
       "      <td>All other</td>\n",
       "      <td>Children or Armed Forces</td>\n",
       "      <td>...</td>\n",
       "      <td>US</td>\n",
       "      <td>unchanged</td>\n",
       "      <td>NaN</td>\n",
       "      <td>unchanged</td>\n",
       "      <td>unchanged</td>\n",
       "      <td>Same</td>\n",
       "      <td>NaN</td>\n",
       "      <td>NaN</td>\n",
       "      <td>2366.75</td>\n",
       "      <td>Below limit</td>\n",
       "    </tr>\n",
       "    <tr>\n",
       "      <th>2</th>\n",
       "      <td>ID_TZ0002</td>\n",
       "      <td>21</td>\n",
       "      <td>Male</td>\n",
       "      <td>12th grade no diploma</td>\n",
       "      <td>Federal government</td>\n",
       "      <td>NaN</td>\n",
       "      <td>Never married</td>\n",
       "      <td>Black</td>\n",
       "      <td>All other</td>\n",
       "      <td>Children or Armed Forces</td>\n",
       "      <td>...</td>\n",
       "      <td>US</td>\n",
       "      <td>unchanged</td>\n",
       "      <td>NaN</td>\n",
       "      <td>unchanged</td>\n",
       "      <td>unchanged</td>\n",
       "      <td>Same</td>\n",
       "      <td>NaN</td>\n",
       "      <td>NaN</td>\n",
       "      <td>1693.42</td>\n",
       "      <td>Below limit</td>\n",
       "    </tr>\n",
       "    <tr>\n",
       "      <th>3</th>\n",
       "      <td>ID_TZ0003</td>\n",
       "      <td>2</td>\n",
       "      <td>Female</td>\n",
       "      <td>Children</td>\n",
       "      <td>NaN</td>\n",
       "      <td>NaN</td>\n",
       "      <td>Never married</td>\n",
       "      <td>Asian or Pacific Islander</td>\n",
       "      <td>All other</td>\n",
       "      <td>Children or Armed Forces</td>\n",
       "      <td>...</td>\n",
       "      <td>India</td>\n",
       "      <td>unchanged</td>\n",
       "      <td>NaN</td>\n",
       "      <td>unchanged</td>\n",
       "      <td>unchanged</td>\n",
       "      <td>Same</td>\n",
       "      <td>NaN</td>\n",
       "      <td>NaN</td>\n",
       "      <td>1380.27</td>\n",
       "      <td>Below limit</td>\n",
       "    </tr>\n",
       "    <tr>\n",
       "      <th>4</th>\n",
       "      <td>ID_TZ0004</td>\n",
       "      <td>70</td>\n",
       "      <td>Male</td>\n",
       "      <td>High school graduate</td>\n",
       "      <td>NaN</td>\n",
       "      <td>NaN</td>\n",
       "      <td>Married-civilian spouse present</td>\n",
       "      <td>White</td>\n",
       "      <td>All other</td>\n",
       "      <td>Not in labor force</td>\n",
       "      <td>...</td>\n",
       "      <td>US</td>\n",
       "      <td>?</td>\n",
       "      <td>?</td>\n",
       "      <td>?</td>\n",
       "      <td>?</td>\n",
       "      <td>NaN</td>\n",
       "      <td>NaN</td>\n",
       "      <td>NaN</td>\n",
       "      <td>1580.79</td>\n",
       "      <td>Below limit</td>\n",
       "    </tr>\n",
       "    <tr>\n",
       "      <th>5</th>\n",
       "      <td>ID_TZ0005</td>\n",
       "      <td>45</td>\n",
       "      <td>Male</td>\n",
       "      <td>Bachelors degree(BA AB BS)</td>\n",
       "      <td>Private</td>\n",
       "      <td>NaN</td>\n",
       "      <td>Married-civilian spouse present</td>\n",
       "      <td>Asian or Pacific Islander</td>\n",
       "      <td>All other</td>\n",
       "      <td>Children or Armed Forces</td>\n",
       "      <td>...</td>\n",
       "      <td>?</td>\n",
       "      <td>unchanged</td>\n",
       "      <td>NaN</td>\n",
       "      <td>unchanged</td>\n",
       "      <td>unchanged</td>\n",
       "      <td>Same</td>\n",
       "      <td>NaN</td>\n",
       "      <td>NaN</td>\n",
       "      <td>4438.27</td>\n",
       "      <td>Below limit</td>\n",
       "    </tr>\n",
       "    <tr>\n",
       "      <th>6</th>\n",
       "      <td>ID_TZ0006</td>\n",
       "      <td>53</td>\n",
       "      <td>Male</td>\n",
       "      <td>High school graduate</td>\n",
       "      <td>Private</td>\n",
       "      <td>NaN</td>\n",
       "      <td>Married-civilian spouse present</td>\n",
       "      <td>White</td>\n",
       "      <td>All other</td>\n",
       "      <td>Full-time schedules</td>\n",
       "      <td>...</td>\n",
       "      <td>US</td>\n",
       "      <td>?</td>\n",
       "      <td>?</td>\n",
       "      <td>?</td>\n",
       "      <td>?</td>\n",
       "      <td>NaN</td>\n",
       "      <td>NaN</td>\n",
       "      <td>NaN</td>\n",
       "      <td>1401.23</td>\n",
       "      <td>Below limit</td>\n",
       "    </tr>\n",
       "    <tr>\n",
       "      <th>7</th>\n",
       "      <td>ID_TZ0007</td>\n",
       "      <td>22</td>\n",
       "      <td>Female</td>\n",
       "      <td>High school graduate</td>\n",
       "      <td>Private</td>\n",
       "      <td>NaN</td>\n",
       "      <td>Married-civilian spouse present</td>\n",
       "      <td>White</td>\n",
       "      <td>All other</td>\n",
       "      <td>Full-time schedules</td>\n",
       "      <td>...</td>\n",
       "      <td>US</td>\n",
       "      <td>?</td>\n",
       "      <td>?</td>\n",
       "      <td>?</td>\n",
       "      <td>?</td>\n",
       "      <td>NaN</td>\n",
       "      <td>NaN</td>\n",
       "      <td>NaN</td>\n",
       "      <td>661.07</td>\n",
       "      <td>Below limit</td>\n",
       "    </tr>\n",
       "    <tr>\n",
       "      <th>8</th>\n",
       "      <td>ID_TZ0008</td>\n",
       "      <td>73</td>\n",
       "      <td>Female</td>\n",
       "      <td>7th and 8th grade</td>\n",
       "      <td>NaN</td>\n",
       "      <td>NaN</td>\n",
       "      <td>Married-civilian spouse present</td>\n",
       "      <td>Black</td>\n",
       "      <td>All other</td>\n",
       "      <td>Not in labor force</td>\n",
       "      <td>...</td>\n",
       "      <td>US</td>\n",
       "      <td>?</td>\n",
       "      <td>?</td>\n",
       "      <td>?</td>\n",
       "      <td>?</td>\n",
       "      <td>NaN</td>\n",
       "      <td>NaN</td>\n",
       "      <td>NaN</td>\n",
       "      <td>1267.30</td>\n",
       "      <td>Below limit</td>\n",
       "    </tr>\n",
       "    <tr>\n",
       "      <th>9</th>\n",
       "      <td>ID_TZ0009</td>\n",
       "      <td>22</td>\n",
       "      <td>Female</td>\n",
       "      <td>11th grade</td>\n",
       "      <td>Private</td>\n",
       "      <td>NaN</td>\n",
       "      <td>Married-civilian spouse present</td>\n",
       "      <td>Black</td>\n",
       "      <td>All other</td>\n",
       "      <td>Full-time schedules</td>\n",
       "      <td>...</td>\n",
       "      <td>US</td>\n",
       "      <td>?</td>\n",
       "      <td>?</td>\n",
       "      <td>?</td>\n",
       "      <td>?</td>\n",
       "      <td>NaN</td>\n",
       "      <td>NaN</td>\n",
       "      <td>NaN</td>\n",
       "      <td>3091.18</td>\n",
       "      <td>Below limit</td>\n",
       "    </tr>\n",
       "    <tr>\n",
       "      <th>10</th>\n",
       "      <td>ID_TZ0010</td>\n",
       "      <td>30</td>\n",
       "      <td>Male</td>\n",
       "      <td>High school graduate</td>\n",
       "      <td>Local government</td>\n",
       "      <td>NaN</td>\n",
       "      <td>Never married</td>\n",
       "      <td>White</td>\n",
       "      <td>All other</td>\n",
       "      <td>Full-time schedules</td>\n",
       "      <td>...</td>\n",
       "      <td>US</td>\n",
       "      <td>?</td>\n",
       "      <td>?</td>\n",
       "      <td>?</td>\n",
       "      <td>?</td>\n",
       "      <td>NaN</td>\n",
       "      <td>NaN</td>\n",
       "      <td>NaN</td>\n",
       "      <td>1735.55</td>\n",
       "      <td>Below limit</td>\n",
       "    </tr>\n",
       "    <tr>\n",
       "      <th>11</th>\n",
       "      <td>ID_TZ0011</td>\n",
       "      <td>4</td>\n",
       "      <td>Male</td>\n",
       "      <td>Children</td>\n",
       "      <td>NaN</td>\n",
       "      <td>NaN</td>\n",
       "      <td>Never married</td>\n",
       "      <td>Black</td>\n",
       "      <td>All other</td>\n",
       "      <td>Children or Armed Forces</td>\n",
       "      <td>...</td>\n",
       "      <td>US</td>\n",
       "      <td>unchanged</td>\n",
       "      <td>NaN</td>\n",
       "      <td>unchanged</td>\n",
       "      <td>unchanged</td>\n",
       "      <td>Same</td>\n",
       "      <td>NaN</td>\n",
       "      <td>NaN</td>\n",
       "      <td>1944.73</td>\n",
       "      <td>Below limit</td>\n",
       "    </tr>\n",
       "    <tr>\n",
       "      <th>12</th>\n",
       "      <td>ID_TZ0012</td>\n",
       "      <td>21</td>\n",
       "      <td>Female</td>\n",
       "      <td>High school graduate</td>\n",
       "      <td>NaN</td>\n",
       "      <td>NaN</td>\n",
       "      <td>Never married</td>\n",
       "      <td>White</td>\n",
       "      <td>All other</td>\n",
       "      <td>Not in labor force</td>\n",
       "      <td>...</td>\n",
       "      <td>US</td>\n",
       "      <td>?</td>\n",
       "      <td>?</td>\n",
       "      <td>?</td>\n",
       "      <td>?</td>\n",
       "      <td>NaN</td>\n",
       "      <td>NaN</td>\n",
       "      <td>NaN</td>\n",
       "      <td>1286.84</td>\n",
       "      <td>Below limit</td>\n",
       "    </tr>\n",
       "    <tr>\n",
       "      <th>13</th>\n",
       "      <td>ID_TZ0013</td>\n",
       "      <td>16</td>\n",
       "      <td>Female</td>\n",
       "      <td>9th grade</td>\n",
       "      <td>NaN</td>\n",
       "      <td>High school</td>\n",
       "      <td>Never married</td>\n",
       "      <td>White</td>\n",
       "      <td>All other</td>\n",
       "      <td>Children or Armed Forces</td>\n",
       "      <td>...</td>\n",
       "      <td>US</td>\n",
       "      <td>unchanged</td>\n",
       "      <td>NaN</td>\n",
       "      <td>unchanged</td>\n",
       "      <td>unchanged</td>\n",
       "      <td>Same</td>\n",
       "      <td>NaN</td>\n",
       "      <td>NaN</td>\n",
       "      <td>2684.64</td>\n",
       "      <td>Below limit</td>\n",
       "    </tr>\n",
       "    <tr>\n",
       "      <th>14</th>\n",
       "      <td>ID_TZ0014</td>\n",
       "      <td>43</td>\n",
       "      <td>Male</td>\n",
       "      <td>High school graduate</td>\n",
       "      <td>Self-employed-incorporated</td>\n",
       "      <td>NaN</td>\n",
       "      <td>Married-civilian spouse present</td>\n",
       "      <td>White</td>\n",
       "      <td>All other</td>\n",
       "      <td>Children or Armed Forces</td>\n",
       "      <td>...</td>\n",
       "      <td>US</td>\n",
       "      <td>unchanged</td>\n",
       "      <td>NaN</td>\n",
       "      <td>unchanged</td>\n",
       "      <td>unchanged</td>\n",
       "      <td>Same</td>\n",
       "      <td>NaN</td>\n",
       "      <td>NaN</td>\n",
       "      <td>786.81</td>\n",
       "      <td>Below limit</td>\n",
       "    </tr>\n",
       "    <tr>\n",
       "      <th>15</th>\n",
       "      <td>ID_TZ0015</td>\n",
       "      <td>36</td>\n",
       "      <td>Female</td>\n",
       "      <td>High school graduate</td>\n",
       "      <td>NaN</td>\n",
       "      <td>NaN</td>\n",
       "      <td>Married-civilian spouse present</td>\n",
       "      <td>White</td>\n",
       "      <td>Mexican-American</td>\n",
       "      <td>Children or Armed Forces</td>\n",
       "      <td>...</td>\n",
       "      <td>US</td>\n",
       "      <td>unchanged</td>\n",
       "      <td>NaN</td>\n",
       "      <td>unchanged</td>\n",
       "      <td>unchanged</td>\n",
       "      <td>Same</td>\n",
       "      <td>NaN</td>\n",
       "      <td>NaN</td>\n",
       "      <td>1705.38</td>\n",
       "      <td>Below limit</td>\n",
       "    </tr>\n",
       "    <tr>\n",
       "      <th>16</th>\n",
       "      <td>ID_TZ0016</td>\n",
       "      <td>5</td>\n",
       "      <td>Female</td>\n",
       "      <td>Children</td>\n",
       "      <td>NaN</td>\n",
       "      <td>NaN</td>\n",
       "      <td>Never married</td>\n",
       "      <td>White</td>\n",
       "      <td>All other</td>\n",
       "      <td>Children or Armed Forces</td>\n",
       "      <td>...</td>\n",
       "      <td>US</td>\n",
       "      <td>?</td>\n",
       "      <td>?</td>\n",
       "      <td>?</td>\n",
       "      <td>?</td>\n",
       "      <td>NaN</td>\n",
       "      <td>NaN</td>\n",
       "      <td>NaN</td>\n",
       "      <td>1340.44</td>\n",
       "      <td>Below limit</td>\n",
       "    </tr>\n",
       "    <tr>\n",
       "      <th>17</th>\n",
       "      <td>ID_TZ0017</td>\n",
       "      <td>88</td>\n",
       "      <td>Female</td>\n",
       "      <td>High school graduate</td>\n",
       "      <td>NaN</td>\n",
       "      <td>NaN</td>\n",
       "      <td>Widowed</td>\n",
       "      <td>White</td>\n",
       "      <td>All other</td>\n",
       "      <td>Not in labor force</td>\n",
       "      <td>...</td>\n",
       "      <td>US</td>\n",
       "      <td>?</td>\n",
       "      <td>?</td>\n",
       "      <td>?</td>\n",
       "      <td>?</td>\n",
       "      <td>NaN</td>\n",
       "      <td>NaN</td>\n",
       "      <td>NaN</td>\n",
       "      <td>102.21</td>\n",
       "      <td>Below limit</td>\n",
       "    </tr>\n",
       "    <tr>\n",
       "      <th>18</th>\n",
       "      <td>ID_TZ0018</td>\n",
       "      <td>40</td>\n",
       "      <td>Female</td>\n",
       "      <td>Masters degree(MA MS MEng MEd MSW MBA)</td>\n",
       "      <td>Private</td>\n",
       "      <td>NaN</td>\n",
       "      <td>Married-civilian spouse present</td>\n",
       "      <td>White</td>\n",
       "      <td>All other</td>\n",
       "      <td>Children or Armed Forces</td>\n",
       "      <td>...</td>\n",
       "      <td>US</td>\n",
       "      <td>unchanged</td>\n",
       "      <td>NaN</td>\n",
       "      <td>unchanged</td>\n",
       "      <td>unchanged</td>\n",
       "      <td>Same</td>\n",
       "      <td>NaN</td>\n",
       "      <td>NaN</td>\n",
       "      <td>2735.91</td>\n",
       "      <td>Above limit</td>\n",
       "    </tr>\n",
       "    <tr>\n",
       "      <th>19</th>\n",
       "      <td>ID_TZ0019</td>\n",
       "      <td>47</td>\n",
       "      <td>Male</td>\n",
       "      <td>Bachelors degree(BA AB BS)</td>\n",
       "      <td>Local government</td>\n",
       "      <td>NaN</td>\n",
       "      <td>Married-civilian spouse present</td>\n",
       "      <td>White</td>\n",
       "      <td>All other</td>\n",
       "      <td>Children or Armed Forces</td>\n",
       "      <td>...</td>\n",
       "      <td>US</td>\n",
       "      <td>unchanged</td>\n",
       "      <td>NaN</td>\n",
       "      <td>unchanged</td>\n",
       "      <td>unchanged</td>\n",
       "      <td>Same</td>\n",
       "      <td>NaN</td>\n",
       "      <td>NaN</td>\n",
       "      <td>1283.03</td>\n",
       "      <td>Above limit</td>\n",
       "    </tr>\n",
       "  </tbody>\n",
       "</table>\n",
       "<p>20 rows × 43 columns</p>\n",
       "</div>"
      ],
      "text/plain": [
       "           ID  age   gender                                education  \\\n",
       "0   ID_TZ0000   79   Female                     High school graduate   \n",
       "1   ID_TZ0001   65   Female                     High school graduate   \n",
       "2   ID_TZ0002   21     Male                    12th grade no diploma   \n",
       "3   ID_TZ0003    2   Female                                 Children   \n",
       "4   ID_TZ0004   70     Male                     High school graduate   \n",
       "5   ID_TZ0005   45     Male               Bachelors degree(BA AB BS)   \n",
       "6   ID_TZ0006   53     Male                     High school graduate   \n",
       "7   ID_TZ0007   22   Female                     High school graduate   \n",
       "8   ID_TZ0008   73   Female                        7th and 8th grade   \n",
       "9   ID_TZ0009   22   Female                               11th grade   \n",
       "10  ID_TZ0010   30     Male                     High school graduate   \n",
       "11  ID_TZ0011    4     Male                                 Children   \n",
       "12  ID_TZ0012   21   Female                     High school graduate   \n",
       "13  ID_TZ0013   16   Female                                9th grade   \n",
       "14  ID_TZ0014   43     Male                     High school graduate   \n",
       "15  ID_TZ0015   36   Female                     High school graduate   \n",
       "16  ID_TZ0016    5   Female                                 Children   \n",
       "17  ID_TZ0017   88   Female                     High school graduate   \n",
       "18  ID_TZ0018   40   Female   Masters degree(MA MS MEng MEd MSW MBA)   \n",
       "19  ID_TZ0019   47     Male               Bachelors degree(BA AB BS)   \n",
       "\n",
       "                          class education_institute  \\\n",
       "0                           NaN                 NaN   \n",
       "1                           NaN                 NaN   \n",
       "2            Federal government                 NaN   \n",
       "3                           NaN                 NaN   \n",
       "4                           NaN                 NaN   \n",
       "5                       Private                 NaN   \n",
       "6                       Private                 NaN   \n",
       "7                       Private                 NaN   \n",
       "8                           NaN                 NaN   \n",
       "9                       Private                 NaN   \n",
       "10             Local government                 NaN   \n",
       "11                          NaN                 NaN   \n",
       "12                          NaN                 NaN   \n",
       "13                          NaN         High school   \n",
       "14   Self-employed-incorporated                 NaN   \n",
       "15                          NaN                 NaN   \n",
       "16                          NaN                 NaN   \n",
       "17                          NaN                 NaN   \n",
       "18                      Private                 NaN   \n",
       "19             Local government                 NaN   \n",
       "\n",
       "                      marital_status                        race  \\\n",
       "0                            Widowed                       White   \n",
       "1                            Widowed                       White   \n",
       "2                      Never married                       Black   \n",
       "3                      Never married   Asian or Pacific Islander   \n",
       "4    Married-civilian spouse present                       White   \n",
       "5    Married-civilian spouse present   Asian or Pacific Islander   \n",
       "6    Married-civilian spouse present                       White   \n",
       "7    Married-civilian spouse present                       White   \n",
       "8    Married-civilian spouse present                       Black   \n",
       "9    Married-civilian spouse present                       Black   \n",
       "10                     Never married                       White   \n",
       "11                     Never married                       Black   \n",
       "12                     Never married                       White   \n",
       "13                     Never married                       White   \n",
       "14   Married-civilian spouse present                       White   \n",
       "15   Married-civilian spouse present                       White   \n",
       "16                     Never married                       White   \n",
       "17                           Widowed                       White   \n",
       "18   Married-civilian spouse present                       White   \n",
       "19   Married-civilian spouse present                       White   \n",
       "\n",
       "          is_hispanic      employment_commitment  ... country_of_birth_mother  \\\n",
       "0           All other         Not in labor force  ...                      US   \n",
       "1           All other   Children or Armed Forces  ...                      US   \n",
       "2           All other   Children or Armed Forces  ...                      US   \n",
       "3           All other   Children or Armed Forces  ...                   India   \n",
       "4           All other         Not in labor force  ...                      US   \n",
       "5           All other   Children or Armed Forces  ...                       ?   \n",
       "6           All other        Full-time schedules  ...                      US   \n",
       "7           All other        Full-time schedules  ...                      US   \n",
       "8           All other         Not in labor force  ...                      US   \n",
       "9           All other        Full-time schedules  ...                      US   \n",
       "10          All other        Full-time schedules  ...                      US   \n",
       "11          All other   Children or Armed Forces  ...                      US   \n",
       "12          All other         Not in labor force  ...                      US   \n",
       "13          All other   Children or Armed Forces  ...                      US   \n",
       "14          All other   Children or Armed Forces  ...                      US   \n",
       "15   Mexican-American   Children or Armed Forces  ...                      US   \n",
       "16          All other   Children or Armed Forces  ...                      US   \n",
       "17          All other         Not in labor force  ...                      US   \n",
       "18          All other   Children or Armed Forces  ...                      US   \n",
       "19          All other   Children or Armed Forces  ...                      US   \n",
       "\n",
       "    migration_code_change_in_msa  migration_prev_sunbelt  \\\n",
       "0                              ?                       ?   \n",
       "1                      unchanged                     NaN   \n",
       "2                      unchanged                     NaN   \n",
       "3                      unchanged                     NaN   \n",
       "4                              ?                       ?   \n",
       "5                      unchanged                     NaN   \n",
       "6                              ?                       ?   \n",
       "7                              ?                       ?   \n",
       "8                              ?                       ?   \n",
       "9                              ?                       ?   \n",
       "10                             ?                       ?   \n",
       "11                     unchanged                     NaN   \n",
       "12                             ?                       ?   \n",
       "13                     unchanged                     NaN   \n",
       "14                     unchanged                     NaN   \n",
       "15                     unchanged                     NaN   \n",
       "16                             ?                       ?   \n",
       "17                             ?                       ?   \n",
       "18                     unchanged                     NaN   \n",
       "19                     unchanged                     NaN   \n",
       "\n",
       "   migration_code_move_within_reg  migration_code_change_in_reg  \\\n",
       "0                               ?                             ?   \n",
       "1                       unchanged                     unchanged   \n",
       "2                       unchanged                     unchanged   \n",
       "3                       unchanged                     unchanged   \n",
       "4                               ?                             ?   \n",
       "5                       unchanged                     unchanged   \n",
       "6                               ?                             ?   \n",
       "7                               ?                             ?   \n",
       "8                               ?                             ?   \n",
       "9                               ?                             ?   \n",
       "10                              ?                             ?   \n",
       "11                      unchanged                     unchanged   \n",
       "12                              ?                             ?   \n",
       "13                      unchanged                     unchanged   \n",
       "14                      unchanged                     unchanged   \n",
       "15                      unchanged                     unchanged   \n",
       "16                              ?                             ?   \n",
       "17                              ?                             ?   \n",
       "18                      unchanged                     unchanged   \n",
       "19                      unchanged                     unchanged   \n",
       "\n",
       "    residence_1_year_ago old_residence_reg  old_residence_state  \\\n",
       "0                    NaN               NaN                  NaN   \n",
       "1                   Same               NaN                  NaN   \n",
       "2                   Same               NaN                  NaN   \n",
       "3                   Same               NaN                  NaN   \n",
       "4                    NaN               NaN                  NaN   \n",
       "5                   Same               NaN                  NaN   \n",
       "6                    NaN               NaN                  NaN   \n",
       "7                    NaN               NaN                  NaN   \n",
       "8                    NaN               NaN                  NaN   \n",
       "9                    NaN               NaN                  NaN   \n",
       "10                   NaN               NaN                  NaN   \n",
       "11                  Same               NaN                  NaN   \n",
       "12                   NaN               NaN                  NaN   \n",
       "13                  Same               NaN                  NaN   \n",
       "14                  Same               NaN                  NaN   \n",
       "15                  Same               NaN                  NaN   \n",
       "16                   NaN               NaN                  NaN   \n",
       "17                   NaN               NaN                  NaN   \n",
       "18                  Same               NaN                  NaN   \n",
       "19                  Same               NaN                  NaN   \n",
       "\n",
       "   importance_of_record  income_above_limit  \n",
       "0               1779.74         Below limit  \n",
       "1               2366.75         Below limit  \n",
       "2               1693.42         Below limit  \n",
       "3               1380.27         Below limit  \n",
       "4               1580.79         Below limit  \n",
       "5               4438.27         Below limit  \n",
       "6               1401.23         Below limit  \n",
       "7                661.07         Below limit  \n",
       "8               1267.30         Below limit  \n",
       "9               3091.18         Below limit  \n",
       "10              1735.55         Below limit  \n",
       "11              1944.73         Below limit  \n",
       "12              1286.84         Below limit  \n",
       "13              2684.64         Below limit  \n",
       "14               786.81         Below limit  \n",
       "15              1705.38         Below limit  \n",
       "16              1340.44         Below limit  \n",
       "17               102.21         Below limit  \n",
       "18              2735.91         Above limit  \n",
       "19              1283.03         Above limit  \n",
       "\n",
       "[20 rows x 43 columns]"
      ]
     },
     "execution_count": 120,
     "metadata": {},
     "output_type": "execute_result"
    }
   ],
   "source": [
    "df.head(20)\n"
   ]
  },
  {
   "cell_type": "code",
   "execution_count": 121,
   "metadata": {},
   "outputs": [
    {
     "data": {
      "text/plain": [
       "Index(['ID', 'age', 'gender', 'education', 'class', 'education_institute',\n",
       "       'marital_status', 'race', 'is_hispanic', 'employment_commitment',\n",
       "       'unemployment_reason', 'employment_stat', 'wage_per_hour',\n",
       "       'is_labor_union', 'working_week_per_year', 'industry_code',\n",
       "       'industry_code_main', 'occupation_code', 'occupation_code_main',\n",
       "       'total_employed', 'household_stat', 'household_summary',\n",
       "       'under_18_family', 'veterans_admin_questionnaire', 'vet_benefit',\n",
       "       'tax_status', 'gains', 'losses', 'stocks_status', 'citizenship',\n",
       "       'mig_year', 'country_of_birth_own', 'country_of_birth_father',\n",
       "       'country_of_birth_mother', 'migration_code_change_in_msa',\n",
       "       'migration_prev_sunbelt', 'migration_code_move_within_reg',\n",
       "       'migration_code_change_in_reg', 'residence_1_year_ago',\n",
       "       'old_residence_reg', 'old_residence_state', 'importance_of_record',\n",
       "       'income_above_limit'],\n",
       "      dtype='object')"
      ]
     },
     "execution_count": 121,
     "metadata": {},
     "output_type": "execute_result"
    }
   ],
   "source": [
    "df.columns"
   ]
  },
  {
   "cell_type": "markdown",
   "metadata": {},
   "source": [
    "Noticing a lot of columns so might want to remove the ones that I don't want to investigate further"
   ]
  },
  {
   "cell_type": "markdown",
   "metadata": {},
   "source": [
    "Columns that look useful:\n",
    "age, gender, education, marital status, employment commitment, stocks status, citizenship, total employed, income above limit"
   ]
  },
  {
   "cell_type": "markdown",
   "metadata": {},
   "source": [
    "# Cleaning Data"
   ]
  },
  {
   "cell_type": "code",
   "execution_count": 122,
   "metadata": {},
   "outputs": [],
   "source": [
    "# Narrow down columns that I want to investigate further\n",
    "df = df[['age', 'gender', 'education', 'marital_status', 'employment_commitment', 'stocks_status', 'total_employed', 'income_above_limit']]"
   ]
  },
  {
   "cell_type": "code",
   "execution_count": 123,
   "metadata": {},
   "outputs": [
    {
     "data": {
      "text/plain": [
       "age                      0.0\n",
       "gender                   0.0\n",
       "education                0.0\n",
       "marital_status           0.0\n",
       "employment_commitment    0.0\n",
       "stocks_status            0.0\n",
       "citizenship              0.0\n",
       "total_employed           0.0\n",
       "income_above_limit       0.0\n",
       "dtype: float64"
      ]
     },
     "execution_count": 123,
     "metadata": {},
     "output_type": "execute_result"
    }
   ],
   "source": [
    "# Check null value percentages for each column\n",
    "df.isna().sum() / df.shape[0]"
   ]
  },
  {
   "cell_type": "markdown",
   "metadata": {},
   "source": [
    "Because there are no null values we do not need to trim down"
   ]
  },
  {
   "cell_type": "code",
   "execution_count": 124,
   "metadata": {},
   "outputs": [
    {
     "data": {
      "text/plain": [
       "133282"
      ]
     },
     "execution_count": 124,
     "metadata": {},
     "output_type": "execute_result"
    }
   ],
   "source": [
    "df.duplicated().sum()"
   ]
  },
  {
   "cell_type": "markdown",
   "metadata": {},
   "source": [
    "# Exploratory Data Analysis"
   ]
  },
  {
   "cell_type": "markdown",
   "metadata": {},
   "source": [
    "## Univariate Data"
   ]
  },
  {
   "cell_type": "code",
   "execution_count": 125,
   "metadata": {},
   "outputs": [
    {
     "data": {
      "text/plain": [
       "0    34\n",
       "Name: age, dtype: int64"
      ]
     },
     "execution_count": 125,
     "metadata": {},
     "output_type": "execute_result"
    }
   ],
   "source": [
    "# Age\n",
    "df[\"age\"].mean()\n",
    "df[\"age\"].median()\n",
    "df[\"age\"].mode()"
   ]
  },
  {
   "cell_type": "markdown",
   "metadata": {},
   "source": [
    "For age column:\n",
    "\n",
    "Mean: 34.5\n",
    "Median: 33\n",
    "Mode: 34"
   ]
  },
  {
   "cell_type": "code",
   "execution_count": 126,
   "metadata": {},
   "outputs": [
    {
     "data": {
      "text/plain": [
       "<Axes: >"
      ]
     },
     "execution_count": 126,
     "metadata": {},
     "output_type": "execute_result"
    },
    {
     "data": {
      "image/png": "[encoded data removed]",
      "text/plain": [
       "<Figure size 640x480 with 1 Axes>"
      ]
     },
     "metadata": {},
     "output_type": "display_data"
    }
   ],
   "source": [
    "df[\"age\"].hist()"
   ]
  },
  {
   "cell_type": "markdown",
   "metadata": {},
   "source": [
    "Its interesting to see this distribution for age because I might want to know what this study looks like for young people (age 0-15) because estimating where they will lie in terms of income seems quite challenging/telling for what factors matter most"
   ]
  },
  {
   "cell_type": "code",
   "execution_count": 127,
   "metadata": {},
   "outputs": [
    {
     "data": {
      "text/plain": [
       "gender\n",
       "Female    108784\n",
       "Male      100715\n",
       "Name: count, dtype: int64"
      ]
     },
     "execution_count": 127,
     "metadata": {},
     "output_type": "execute_result"
    }
   ],
   "source": [
    "# Gender\n",
    "df[\"gender\"].value_counts()"
   ]
  },
  {
   "cell_type": "markdown",
   "metadata": {},
   "source": [
    "Male: 48.1%\n",
    "Female: 51.9%"
   ]
  },
  {
   "cell_type": "code",
   "execution_count": 128,
   "metadata": {},
   "outputs": [
    {
     "data": {
      "text/plain": [
       "income_above_limit\n",
       "Below limit    196501\n",
       "Above limit     12998\n",
       "Name: count, dtype: int64"
      ]
     },
     "execution_count": 128,
     "metadata": {},
     "output_type": "execute_result"
    }
   ],
   "source": [
    "# Income predictions\n",
    "df[\"income_above_limit\"].value_counts()"
   ]
  },
  {
   "cell_type": "markdown",
   "metadata": {},
   "source": [
    "Above limit: 6.2%\n",
    "Below limit: 93.8%\n",
    "\n",
    "This is a fascinating distribution that I want to investigate more"
   ]
  },
  {
   "cell_type": "code",
   "execution_count": 130,
   "metadata": {},
   "outputs": [
    {
     "data": {
      "text/plain": [
       "194.53342020725637"
      ]
     },
     "execution_count": 130,
     "metadata": {},
     "output_type": "execute_result"
    }
   ],
   "source": [
    "# Stocks status\n",
    "df[\"stocks_status\"].mean()"
   ]
  },
  {
   "cell_type": "code",
   "execution_count": 155,
   "metadata": {},
   "outputs": [
    {
     "data": {
      "text/plain": [
       "stocks_status\n",
       "0       187467\n",
       "100       1202\n",
       "500       1061\n",
       "200        969\n",
       "1000       948\n",
       "         ...  \n",
       "1085         1\n",
       "3396         1\n",
       "358          1\n",
       "627          1\n",
       "3508         1\n",
       "Name: count, Length: 1499, dtype: int64"
      ]
     },
     "execution_count": 155,
     "metadata": {},
     "output_type": "execute_result"
    }
   ],
   "source": [
    "df[\"stocks_status\"].value_counts()"
   ]
  },
  {
   "cell_type": "code",
   "execution_count": 131,
   "metadata": {},
   "outputs": [
    {
     "data": {
      "text/plain": [
       "<Axes: xlabel='stocks_status'>"
      ]
     },
     "execution_count": 131,
     "metadata": {},
     "output_type": "execute_result"
    },
    {
     "data": {
      "image/png": "[encoded data removed]",
      "text/plain": [
       "<Figure size 640x480 with 1 Axes>"
      ]
     },
     "metadata": {},
     "output_type": "display_data"
    }
   ],
   "source": [
    "sns.boxplot(data=df, x=\"stocks_status\")"
   ]
  },
  {
   "cell_type": "code",
   "execution_count": 133,
   "metadata": {},
   "outputs": [
    {
     "data": {
      "text/plain": [
       "education\n",
       "High school graduate                      50627\n",
       "Children                                  49685\n",
       "Some college but no degree                29320\n",
       "Bachelors degree(BA AB BS)                20979\n",
       "7th and 8th grade                          8438\n",
       "10th grade                                 7905\n",
       "11th grade                                 7260\n",
       "Masters degree(MA MS MEng MEd MSW MBA)     6861\n",
       "9th grade                                  6540\n",
       "Associates degree-occup /vocational        5650\n",
       "Associates degree-academic program         4494\n",
       "5th or 6th grade                           3542\n",
       "12th grade no diploma                      2282\n",
       "1st 2nd 3rd or 4th grade                   1917\n",
       "Prof school degree (MD DDS DVM LLB JD)     1852\n",
       "Doctorate degree(PhD EdD)                  1318\n",
       "Less than 1st grade                         829\n",
       "Name: count, dtype: int64"
      ]
     },
     "execution_count": 133,
     "metadata": {},
     "output_type": "execute_result"
    }
   ],
   "source": [
    "# Education\n",
    "df[\"education\"].value_counts()"
   ]
  },
  {
   "cell_type": "code",
   "execution_count": 154,
   "metadata": {},
   "outputs": [
    {
     "data": {
      "text/plain": [
       "<Axes: xlabel='education', ylabel='Count'>"
      ]
     },
     "execution_count": 154,
     "metadata": {},
     "output_type": "execute_result"
    },
    {
     "data": {
      "image/png": "[encoded data removed]",
      "text/plain": [
       "<Figure size 5000x4000 with 1 Axes>"
      ]
     },
     "metadata": {},
     "output_type": "display_data"
    }
   ],
   "source": [
    "# Education\n",
    "plt.figure(figsize=(50,40))\n",
    "sns.histplot(data=df, x=\"education\")"
   ]
  },
  {
   "cell_type": "code",
   "execution_count": 149,
   "metadata": {},
   "outputs": [
    {
     "data": {
      "text/plain": [
       "6"
      ]
     },
     "execution_count": 149,
     "metadata": {},
     "output_type": "execute_result"
    }
   ],
   "source": [
    "df[\"total_employed\"].mean()\n",
    "df[\"total_employed\"].max() - df[\"total_employed\"].min()"
   ]
  },
  {
   "cell_type": "code",
   "execution_count": 150,
   "metadata": {},
   "outputs": [
    {
     "data": {
      "text/plain": [
       "<Axes: xlabel='total_employed'>"
      ]
     },
     "execution_count": 150,
     "metadata": {},
     "output_type": "execute_result"
    },
    {
     "data": {
      "image/png": "[encoded data removed]",
      "text/plain": [
       "<Figure size 640x480 with 1 Axes>"
      ]
     },
     "metadata": {},
     "output_type": "display_data"
    }
   ],
   "source": [
    "sns.boxplot(data=df, x=\"total_employed\")"
   ]
  },
  {
   "cell_type": "markdown",
   "metadata": {},
   "source": [
    "Not much deviation with the total_employed column\n",
    "There doesn't seem to be that much of a difference between a compan"
   ]
  },
  {
   "cell_type": "markdown",
   "metadata": {},
   "source": [
    "## Multivariate Data"
   ]
  },
  {
   "cell_type": "code",
   "execution_count": 134,
   "metadata": {},
   "outputs": [
    {
     "data": {
      "text/plain": [
       "<Axes: title={'center': 'Age vs. Stock Status'}, xlabel='age', ylabel='stocks_status'>"
      ]
     },
     "execution_count": 134,
     "metadata": {},
     "output_type": "execute_result"
    },
    {
     "data": {
      "image/png": "[encoded data removed]",
      "text/plain": [
       "<Figure size 640x480 with 1 Axes>"
      ]
     },
     "metadata": {},
     "output_type": "display_data"
    }
   ],
   "source": [
    "plt.title(\"Age vs. Stock Status\")\n",
    "sns.scatterplot(data=df,x=\"age\", y=\"stocks_status\")"
   ]
  },
  {
   "cell_type": "markdown",
   "metadata": {},
   "source": [
    "I don't get much from this graph but would have been interesting to investigate"
   ]
  },
  {
   "cell_type": "markdown",
   "metadata": {},
   "source": [
    "Because the key column is predicted income, which is categorical data, it doesn't make much sense to do multivariable data analysis"
   ]
  },
  {
   "cell_type": "markdown",
   "metadata": {},
   "source": [
    "# Statistical Analysis"
   ]
  },
  {
   "cell_type": "markdown",
   "metadata": {},
   "source": [
    "## Key Questions\n",
    "1. What is the average stock status of those above the income average versus those that are predicted to be below the income average?\n",
    "2. What percent of those that are married are expected to be above the income average and how does that compare to those that are not married (and over the age of 30)?\n",
    "3. For those that are expected to be above the income average, what percent are citizens AND are employed"
   ]
  },
  {
   "cell_type": "code",
   "execution_count": 135,
   "metadata": {},
   "outputs": [
    {
     "data": {
      "text/plain": [
       "1460.03243462056"
      ]
     },
     "execution_count": 135,
     "metadata": {},
     "output_type": "execute_result"
    }
   ],
   "source": [
    "# Question 1\n",
    "df[\"stocks_status\"].loc[df[\"income_above_limit\"] == \"Above limit\"].mean() - df[\"stocks_status\"].loc[df[\"income_above_limit\"] == \"Below limit\"].mean()"
   ]
  },
  {
   "cell_type": "markdown",
   "metadata": {},
   "source": [
    "The range in average stock status of those predicted to be above average income versus below is $1460 worth of stocks"
   ]
  },
  {
   "cell_type": "code",
   "execution_count": 143,
   "metadata": {},
   "outputs": [
    {
     "data": {
      "text/plain": [
       "marital_status\n",
       "Never married                      89553\n",
       "Married-civilian spouse present    78313\n",
       "Divorced                           12361\n",
       "Widowed                            10664\n",
       "Separated                           3439\n",
       "Married-spouse absent               1464\n",
       "Married-A F spouse present           707\n",
       "Name: count, dtype: int64"
      ]
     },
     "execution_count": 143,
     "metadata": {},
     "output_type": "execute_result"
    }
   ],
   "source": [
    "# Question 2\n",
    "df[\"marital_status\"].loc[df[\"income_above_limit\"] == \"Above limit\"].value_counts()\n",
    "df[\"marital_status\"].loc[df[\"income_above_limit\"] == \"Below limit\"].value_counts()\n"
   ]
  },
  {
   "cell_type": "markdown",
   "metadata": {},
   "source": [
    "77.7% of predicted above income earners are currently married with a spouse present\n",
    "9.0% have never been married\n",
    "12.4% were once married and now are not (divorced, widowed, separated)\n",
    "\n",
    "39.9% of predicted below income earners are currently married with a spouse present\n",
    "45.7% have never been married\n",
    "13.5% were once married and now are not (divorced, widowed, separated)\n",
    "\n",
    "\n"
   ]
  },
  {
   "cell_type": "code",
   "execution_count": 142,
   "metadata": {},
   "outputs": [
    {
     "data": {
      "text/html": [
       "<div>\n",
       "<style scoped>\n",
       "    .dataframe tbody tr th:only-of-type {\n",
       "        vertical-align: middle;\n",
       "    }\n",
       "\n",
       "    .dataframe tbody tr th {\n",
       "        vertical-align: top;\n",
       "    }\n",
       "\n",
       "    .dataframe thead th {\n",
       "        text-align: right;\n",
       "    }\n",
       "</style>\n",
       "<table border=\"1\" class=\"dataframe\">\n",
       "  <thead>\n",
       "    <tr style=\"text-align: right;\">\n",
       "      <th></th>\n",
       "      <th>age</th>\n",
       "      <th>gender</th>\n",
       "      <th>education</th>\n",
       "      <th>marital_status</th>\n",
       "      <th>employment_commitment</th>\n",
       "      <th>stocks_status</th>\n",
       "      <th>citizenship</th>\n",
       "      <th>total_employed</th>\n",
       "      <th>income_above_limit</th>\n",
       "    </tr>\n",
       "  </thead>\n",
       "  <tbody>\n",
       "  </tbody>\n",
       "</table>\n",
       "</div>"
      ],
      "text/plain": [
       "Empty DataFrame\n",
       "Columns: [age, gender, education, marital_status, employment_commitment, stocks_status, citizenship, total_employed, income_above_limit]\n",
       "Index: []"
      ]
     },
     "execution_count": 142,
     "metadata": {},
     "output_type": "execute_result"
    }
   ],
   "source": [
    "# Question 3\n",
    "df.query(\"(education == 'Children')\")"
   ]
  }
 ],
 "metadata": {
  "kernelspec": {
   "display_name": ".venv",
   "language": "python",
   "name": "python3"
  },
  "language_info": {
   "codemirror_mode": {
    "name": "ipython",
    "version": 3
   },
   "file_extension": ".py",
   "mimetype": "text/x-python",
   "name": "python",
   "nbconvert_exporter": "python",
   "pygments_lexer": "ipython3",
   "version": "3.10.9"
  },
  "orig_nbformat": 4
 },
 "nbformat": 4,
 "nbformat_minor": 2
}
